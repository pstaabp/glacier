{
 "cells": [
  {
   "cell_type": "code",
   "execution_count": 1,
   "metadata": {},
   "outputs": [],
   "source": [
    "using Revise, Plots"
   ]
  },
  {
   "cell_type": "code",
   "execution_count": 5,
   "metadata": {},
   "outputs": [
    {
     "name": "stderr",
     "output_type": "stream",
     "text": [
      "WARNING: replacing module GlacierModel.\n"
     ]
    }
   ],
   "source": [
    "includet(\"GlacierModel.jl\"); using .GlacierModel"
   ]
  },
  {
   "cell_type": "code",
   "execution_count": 9,
   "metadata": {},
   "outputs": [
    {
     "data": {
      "text/plain": [
       "Ellipse(1.0, 2.0, 0.7853981633974483)"
      ]
     },
     "execution_count": 9,
     "metadata": {},
     "output_type": "execute_result"
    }
   ],
   "source": [
    "Ellipse(1,2,pi/4)"
   ]
  },
  {
   "cell_type": "code",
   "execution_count": 11,
   "metadata": {},
   "outputs": [
    {
     "name": "stdout",
     "output_type": "stream",
     "text": [
      "0.7853981633974483\n"
     ]
    },
    {
     "data": {
      "image/svg+xml": [
       "<?xml version=\"1.0\" encoding=\"utf-8\"?>\n",
       "<svg xmlns=\"http://www.w3.org/2000/svg\" xmlns:xlink=\"http://www.w3.org/1999/xlink\" width=\"600\" height=\"400\" viewBox=\"0 0 2400 1600\">\n",
       "<defs>\n",
       "  <clipPath id=\"clip7400\">\n",
       "    <rect x=\"0\" y=\"0\" width=\"2000\" height=\"2000\"/>\n",
       "  </clipPath>\n",
       "</defs>\n",
       "<defs>\n",
       "  <clipPath id=\"clip7401\">\n",
       "    <rect x=\"0\" y=\"0\" width=\"2400\" height=\"1600\"/>\n",
       "  </clipPath>\n",
       "</defs>\n",
       "<polygon clip-path=\"url(#clip7401)\" points=\"\n",
       "0,1600 2400,1600 2400,0 0,0 \n",
       "  \" fill=\"#ffffff\" fill-opacity=\"1\"/>\n",
       "<defs>\n",
       "  <clipPath id=\"clip7402\">\n",
       "    <rect x=\"480\" y=\"0\" width=\"1681\" height=\"1600\"/>\n",
       "  </clipPath>\n",
       "</defs>\n",
       "<polygon clip-path=\"url(#clip7401)\" points=\"\n",
       "507.182,1503.47 1963.44,1503.47 1963.44,47.2441 507.182,47.2441 \n",
       "  \" fill=\"#ffffff\" fill-opacity=\"1\"/>\n",
       "<defs>\n",
       "  <clipPath id=\"clip7403\">\n",
       "    <rect x=\"507\" y=\"47\" width=\"1457\" height=\"1457\"/>\n",
       "  </clipPath>\n",
       "</defs>\n",
       "<polyline clip-path=\"url(#clip7403)\" style=\"stroke:#000000; stroke-width:2; stroke-opacity:0.1; fill:none\" points=\"\n",
       "  620.893,1503.47 620.893,47.2441 \n",
       "  \"/>\n",
       "<polyline clip-path=\"url(#clip7403)\" style=\"stroke:#000000; stroke-width:2; stroke-opacity:0.1; fill:none\" points=\"\n",
       "  928.177,1503.47 928.177,47.2441 \n",
       "  \"/>\n",
       "<polyline clip-path=\"url(#clip7403)\" style=\"stroke:#000000; stroke-width:2; stroke-opacity:0.1; fill:none\" points=\"\n",
       "  1235.46,1503.47 1235.46,47.2441 \n",
       "  \"/>\n",
       "<polyline clip-path=\"url(#clip7403)\" style=\"stroke:#000000; stroke-width:2; stroke-opacity:0.1; fill:none\" points=\"\n",
       "  1542.74,1503.47 1542.74,47.2441 \n",
       "  \"/>\n",
       "<polyline clip-path=\"url(#clip7403)\" style=\"stroke:#000000; stroke-width:2; stroke-opacity:0.1; fill:none\" points=\"\n",
       "  1850.03,1503.47 1850.03,47.2441 \n",
       "  \"/>\n",
       "<polyline clip-path=\"url(#clip7403)\" style=\"stroke:#000000; stroke-width:2; stroke-opacity:0.1; fill:none\" points=\"\n",
       "  507.182,1390.1 1963.44,1390.1 \n",
       "  \"/>\n",
       "<polyline clip-path=\"url(#clip7403)\" style=\"stroke:#000000; stroke-width:2; stroke-opacity:0.1; fill:none\" points=\"\n",
       "  507.182,1082.81 1963.44,1082.81 \n",
       "  \"/>\n",
       "<polyline clip-path=\"url(#clip7403)\" style=\"stroke:#000000; stroke-width:2; stroke-opacity:0.1; fill:none\" points=\"\n",
       "  507.182,775.529 1963.44,775.529 \n",
       "  \"/>\n",
       "<polyline clip-path=\"url(#clip7403)\" style=\"stroke:#000000; stroke-width:2; stroke-opacity:0.1; fill:none\" points=\"\n",
       "  507.182,468.245 1963.44,468.245 \n",
       "  \"/>\n",
       "<polyline clip-path=\"url(#clip7403)\" style=\"stroke:#000000; stroke-width:2; stroke-opacity:0.1; fill:none\" points=\"\n",
       "  507.182,160.961 1963.44,160.961 \n",
       "  \"/>\n",
       "<polyline clip-path=\"url(#clip7401)\" style=\"stroke:#000000; stroke-width:4; stroke-opacity:1; fill:none\" points=\"\n",
       "  507.182,1503.47 1963.44,1503.47 \n",
       "  \"/>\n",
       "<polyline clip-path=\"url(#clip7401)\" style=\"stroke:#000000; stroke-width:4; stroke-opacity:1; fill:none\" points=\"\n",
       "  507.182,1503.47 507.182,47.2441 \n",
       "  \"/>\n",
       "<polyline clip-path=\"url(#clip7401)\" style=\"stroke:#000000; stroke-width:4; stroke-opacity:1; fill:none\" points=\"\n",
       "  620.893,1503.47 620.893,1481.63 \n",
       "  \"/>\n",
       "<polyline clip-path=\"url(#clip7401)\" style=\"stroke:#000000; stroke-width:4; stroke-opacity:1; fill:none\" points=\"\n",
       "  928.177,1503.47 928.177,1481.63 \n",
       "  \"/>\n",
       "<polyline clip-path=\"url(#clip7401)\" style=\"stroke:#000000; stroke-width:4; stroke-opacity:1; fill:none\" points=\"\n",
       "  1235.46,1503.47 1235.46,1481.63 \n",
       "  \"/>\n",
       "<polyline clip-path=\"url(#clip7401)\" style=\"stroke:#000000; stroke-width:4; stroke-opacity:1; fill:none\" points=\"\n",
       "  1542.74,1503.47 1542.74,1481.63 \n",
       "  \"/>\n",
       "<polyline clip-path=\"url(#clip7401)\" style=\"stroke:#000000; stroke-width:4; stroke-opacity:1; fill:none\" points=\"\n",
       "  1850.03,1503.47 1850.03,1481.63 \n",
       "  \"/>\n",
       "<polyline clip-path=\"url(#clip7401)\" style=\"stroke:#000000; stroke-width:4; stroke-opacity:1; fill:none\" points=\"\n",
       "  507.182,1390.1 529.025,1390.1 \n",
       "  \"/>\n",
       "<polyline clip-path=\"url(#clip7401)\" style=\"stroke:#000000; stroke-width:4; stroke-opacity:1; fill:none\" points=\"\n",
       "  507.182,1082.81 529.025,1082.81 \n",
       "  \"/>\n",
       "<polyline clip-path=\"url(#clip7401)\" style=\"stroke:#000000; stroke-width:4; stroke-opacity:1; fill:none\" points=\"\n",
       "  507.182,775.529 529.025,775.529 \n",
       "  \"/>\n",
       "<polyline clip-path=\"url(#clip7401)\" style=\"stroke:#000000; stroke-width:4; stroke-opacity:1; fill:none\" points=\"\n",
       "  507.182,468.245 529.025,468.245 \n",
       "  \"/>\n",
       "<polyline clip-path=\"url(#clip7401)\" style=\"stroke:#000000; stroke-width:4; stroke-opacity:1; fill:none\" points=\"\n",
       "  507.182,160.961 529.025,160.961 \n",
       "  \"/>\n",
       "<g clip-path=\"url(#clip7401)\">\n",
       "<text style=\"fill:#000000; fill-opacity:1; font-family:Arial,Helvetica Neue,Helvetica,sans-serif; font-size:48px; text-anchor:middle;\" transform=\"rotate(0, 620.893, 1557.47)\" x=\"620.893\" y=\"1557.47\">-2</text>\n",
       "</g>\n",
       "<g clip-path=\"url(#clip7401)\">\n",
       "<text style=\"fill:#000000; fill-opacity:1; font-family:Arial,Helvetica Neue,Helvetica,sans-serif; font-size:48px; text-anchor:middle;\" transform=\"rotate(0, 928.177, 1557.47)\" x=\"928.177\" y=\"1557.47\">-1</text>\n",
       "</g>\n",
       "<g clip-path=\"url(#clip7401)\">\n",
       "<text style=\"fill:#000000; fill-opacity:1; font-family:Arial,Helvetica Neue,Helvetica,sans-serif; font-size:48px; text-anchor:middle;\" transform=\"rotate(0, 1235.46, 1557.47)\" x=\"1235.46\" y=\"1557.47\">0</text>\n",
       "</g>\n",
       "<g clip-path=\"url(#clip7401)\">\n",
       "<text style=\"fill:#000000; fill-opacity:1; font-family:Arial,Helvetica Neue,Helvetica,sans-serif; font-size:48px; text-anchor:middle;\" transform=\"rotate(0, 1542.74, 1557.47)\" x=\"1542.74\" y=\"1557.47\">1</text>\n",
       "</g>\n",
       "<g clip-path=\"url(#clip7401)\">\n",
       "<text style=\"fill:#000000; fill-opacity:1; font-family:Arial,Helvetica Neue,Helvetica,sans-serif; font-size:48px; text-anchor:middle;\" transform=\"rotate(0, 1850.03, 1557.47)\" x=\"1850.03\" y=\"1557.47\">2</text>\n",
       "</g>\n",
       "<g clip-path=\"url(#clip7401)\">\n",
       "<text style=\"fill:#000000; fill-opacity:1; font-family:Arial,Helvetica Neue,Helvetica,sans-serif; font-size:48px; text-anchor:end;\" transform=\"rotate(0, 483.182, 1407.6)\" x=\"483.182\" y=\"1407.6\">-2</text>\n",
       "</g>\n",
       "<g clip-path=\"url(#clip7401)\">\n",
       "<text style=\"fill:#000000; fill-opacity:1; font-family:Arial,Helvetica Neue,Helvetica,sans-serif; font-size:48px; text-anchor:end;\" transform=\"rotate(0, 483.182, 1100.31)\" x=\"483.182\" y=\"1100.31\">-1</text>\n",
       "</g>\n",
       "<g clip-path=\"url(#clip7401)\">\n",
       "<text style=\"fill:#000000; fill-opacity:1; font-family:Arial,Helvetica Neue,Helvetica,sans-serif; font-size:48px; text-anchor:end;\" transform=\"rotate(0, 483.182, 793.029)\" x=\"483.182\" y=\"793.029\">0</text>\n",
       "</g>\n",
       "<g clip-path=\"url(#clip7401)\">\n",
       "<text style=\"fill:#000000; fill-opacity:1; font-family:Arial,Helvetica Neue,Helvetica,sans-serif; font-size:48px; text-anchor:end;\" transform=\"rotate(0, 483.182, 485.745)\" x=\"483.182\" y=\"485.745\">1</text>\n",
       "</g>\n",
       "<g clip-path=\"url(#clip7401)\">\n",
       "<text style=\"fill:#000000; fill-opacity:1; font-family:Arial,Helvetica Neue,Helvetica,sans-serif; font-size:48px; text-anchor:end;\" transform=\"rotate(0, 483.182, 178.461)\" x=\"483.182\" y=\"178.461\">2</text>\n",
       "</g>\n",
       "<polyline clip-path=\"url(#clip7403)\" style=\"stroke:#009af9; stroke-width:4; stroke-opacity:1; fill:none\" points=\"\n",
       "  1647.73,775.529 1637.5,762.831 1627.62,750.732 1618.07,739.179 1608.82,728.123 1599.85,717.521 1591.13,707.332 1582.65,697.52 1574.39,688.051 1566.32,678.895 \n",
       "  1558.43,670.025 1550.71,661.414 1543.13,653.039 1535.68,644.879 1528.35,636.912 1521.13,629.12 1514,621.485 1506.94,613.991 1499.95,606.623 1493.01,599.365 \n",
       "  1486.12,592.203 1479.26,585.124 1472.41,578.115 1465.58,571.165 1458.74,564.26 1451.89,557.389 1445.01,550.541 1438.09,543.704 1431.13,536.868 1424.1,530.02 \n",
       "  1417,523.15 1409.82,516.246 1402.54,509.298 1395.14,502.292 1387.61,495.218 1379.94,488.062 1372.1,480.813 1364.09,473.456 1355.88,465.978 1347.45,458.365 \n",
       "  1338.77,450.601 1329.83,442.67 1320.6,434.555 1311.05,426.239 1301.15,417.702 1290.86,408.925 1280.15,399.886 1268.97,390.563 1257.29,380.933 1245.04,370.97 \n",
       "  1232.19,360.649 1218.66,349.943 1204.38,338.825 1189.3,327.267 1173.32,315.243 1156.36,302.726 1138.32,289.696 1119.1,276.134 1098.59,262.032 1076.67,247.395 \n",
       "  1053.23,232.243 1028.14,216.622 1001.3,200.615 972.623,184.35 942.053,168.016 909.594,151.884 875.331,136.324 839.467,121.822 802.358,108.994 764.549,98.5843 \n",
       "  726.797,91.4409 690.07,88.4582 655.502,90.4844 624.297,98.1981 597.595,111.979 576.311,131.806 561,157.227 551.79,187.407 548.396,221.247 550.202,257.546 \n",
       "  556.389,295.14 566.065,333.014 578.362,370.357 592.509,406.573 607.855,441.26 623.883,474.182 640.195,505.228 656.499,534.375 672.585,561.667 688.311,587.184 \n",
       "  703.585,611.029 718.354,633.319 732.591,654.171 746.287,673.702 759.449,692.026 772.092,709.246 784.238,725.461 795.91,740.761 807.135,755.228 817.942,768.937 \n",
       "  828.356,781.956 838.406,794.348 848.117,806.167 857.514,817.466 866.622,828.29 875.463,838.681 884.057,848.677 892.427,858.314 900.59,867.622 908.566,876.632 \n",
       "  916.37,885.369 924.02,893.859 931.53,902.124 938.916,910.186 946.191,918.063 953.369,925.774 960.462,933.336 967.484,940.765 974.446,948.077 981.359,955.285 \n",
       "  988.237,962.404 995.089,969.446 1001.93,976.424 1008.76,983.351 1015.61,990.237 1022.47,997.095 1029.37,1003.94 1036.3,1010.77 1043.3,1017.61 1050.36,1024.47 \n",
       "  1057.5,1031.35 1064.73,1038.28 1072.07,1045.26 1079.53,1052.29 1087.13,1059.41 1094.88,1066.61 1102.8,1073.91 1110.91,1081.32 1119.23,1088.87 1127.78,1096.56 \n",
       "  1136.58,1104.4 1145.67,1112.42 1155.05,1120.63 1164.78,1129.06 1174.87,1137.71 1185.36,1146.62 1196.3,1155.8 1207.73,1165.27 1219.68,1175.06 1232.23,1185.2 \n",
       "  1245.41,1195.71 1259.3,1206.62 1273.97,1217.95 1289.49,1229.74 1305.95,1242.01 1323.44,1254.78 1342.05,1268.08 1361.9,1281.91 1383.1,1296.28 1405.77,1311.18 \n",
       "  1430.02,1326.57 1455.98,1342.4 1483.72,1358.55 1513.35,1374.88 1544.86,1391.15 1578.24,1407.05 1613.34,1422.15 1649.88,1435.9 1687.42,1447.62 1725.31,1456.51 \n",
       "  1762.68,1461.68 1798.48,1462.26 1831.52,1457.46 1860.6,1446.74 1884.69,1429.9 1903.03,1407.2 1915.28,1379.27 1921.52,1347.11 1922.22,1311.89 1918.12,1274.81 \n",
       "  1910.07,1236.96 1898.98,1199.26 1885.67,1162.42 1870.85,1126.93 1855.11,1093.11 1838.9,1061.12 1822.56,1031.02 1806.34,1002.81 1790.42,976.417 1774.91,951.75 \n",
       "  1759.89,928.697 1745.38,907.141 1731.41,886.963 1717.99,868.05 1705.09,850.29 1692.7,833.584 1680.79,817.838 1669.34,802.964 1658.33,788.885 1647.73,775.529 \n",
       "  \n",
       "  \"/>\n",
       "<polygon clip-path=\"url(#clip7401)\" points=\"\n",
       "1600.61,251.724 1891.44,251.724 1891.44,130.764 1600.61,130.764 \n",
       "  \" fill=\"#ffffff\" fill-opacity=\"1\"/>\n",
       "<polyline clip-path=\"url(#clip7401)\" style=\"stroke:#000000; stroke-width:4; stroke-opacity:1; fill:none\" points=\"\n",
       "  1600.61,251.724 1891.44,251.724 1891.44,130.764 1600.61,130.764 1600.61,251.724 \n",
       "  \"/>\n",
       "<polyline clip-path=\"url(#clip7401)\" style=\"stroke:#009af9; stroke-width:4; stroke-opacity:1; fill:none\" points=\"\n",
       "  1624.61,191.244 1768.61,191.244 \n",
       "  \"/>\n",
       "<g clip-path=\"url(#clip7401)\">\n",
       "<text style=\"fill:#000000; fill-opacity:1; font-family:Arial,Helvetica Neue,Helvetica,sans-serif; font-size:48px; text-anchor:start;\" transform=\"rotate(0, 1792.61, 208.744)\" x=\"1792.61\" y=\"208.744\">y1</text>\n",
       "</g>\n",
       "</svg>\n"
      ]
     },
     "execution_count": 11,
     "metadata": {},
     "output_type": "execute_result"
    }
   ],
   "source": [
    "plot(Ellipse(1,3,pi/4))"
   ]
  },
  {
   "cell_type": "code",
   "execution_count": 13,
   "metadata": {},
   "outputs": [
    {
     "data": {
      "text/plain": [
       "9.42477796076938"
      ]
     },
     "execution_count": 13,
     "metadata": {},
     "output_type": "execute_result"
    }
   ],
   "source": [
    "area(Ellipse(1,3,pi/4))"
   ]
  },
  {
   "cell_type": "code",
   "execution_count": 37,
   "metadata": {},
   "outputs": [
    {
     "name": "stdout",
     "output_type": "stream",
     "text": [
      "\u001b[37m\u001b[1mTest Summary:   | \u001b[22m\u001b[39m\u001b[32m\u001b[1mPass  \u001b[22m\u001b[39m\u001b[36m\u001b[1mTotal\u001b[22m\u001b[39m\n",
      "Create Ellipses | \u001b[32m   3  \u001b[39m\u001b[36m    3\u001b[39m\n",
      "\u001b[37m\u001b[1mTest Summary:     | \u001b[22m\u001b[39m\u001b[32m\u001b[1mPass  \u001b[22m\u001b[39m\u001b[36m\u001b[1mTotal\u001b[22m\u001b[39m\n",
      "Ellipse arguments | \u001b[32m   2  \u001b[39m\u001b[36m    2\u001b[39m\n",
      "\u001b[37m\u001b[1mTest Summary:      | \u001b[22m\u001b[39m\u001b[32m\u001b[1mPass  \u001b[22m\u001b[39m\u001b[36m\u001b[1mTotal\u001b[22m\u001b[39m\n",
      "Area of an Ellipse | \u001b[32m   1  \u001b[39m\u001b[36m    1\u001b[39m\n"
     ]
    },
    {
     "data": {
      "text/plain": [
       "Test.DefaultTestSet(\"Area of an Ellipse\", Any[], 1, false)"
      ]
     },
     "execution_count": 37,
     "metadata": {},
     "output_type": "execute_result"
    }
   ],
   "source": [
    "include(\"test-glacier.jl\")"
   ]
  },
  {
   "cell_type": "code",
   "execution_count": 38,
   "metadata": {},
   "outputs": [
    {
     "name": "stdout",
     "output_type": "stream",
     "text": [
      "search: \u001b[0m\u001b[1mE\u001b[22m\u001b[0m\u001b[1ml\u001b[22m\u001b[0m\u001b[1ml\u001b[22m\u001b[0m\u001b[1mi\u001b[22m\u001b[0m\u001b[1mp\u001b[22m\u001b[0m\u001b[1ms\u001b[22m\u001b[0m\u001b[1me\u001b[22m\n",
      "\n"
     ]
    },
    {
     "data": {
      "text/markdown": [
       "This is the documentation for the Ellipse\n"
      ],
      "text/plain": [
       "  This is the documentation for the Ellipse"
      ]
     },
     "execution_count": 38,
     "metadata": {},
     "output_type": "execute_result"
    }
   ],
   "source": [
    "?Ellipse"
   ]
  },
  {
   "cell_type": "code",
   "execution_count": null,
   "metadata": {},
   "outputs": [],
   "source": []
  }
 ],
 "metadata": {
  "kernelspec": {
   "display_name": "Julia 1.0.1",
   "language": "julia",
   "name": "julia-1.0"
  },
  "language_info": {
   "file_extension": ".jl",
   "mimetype": "application/julia",
   "name": "julia",
   "version": "1.0.1"
  }
 },
 "nbformat": 4,
 "nbformat_minor": 2
}
